{
  "cells": [
    {
      "cell_type": "code",
      "execution_count": null,
      "metadata": {
        "id": "LjDCNUCXWplG"
      },
      "outputs": [],
      "source": [
        "# Importing necessary libraries and functions from spn file\n",
        "import random\n",
        "random.seed(40)\n",
        "import numpy as np\n",
        "from spn import *"
      ]
    },
    {
      "cell_type": "code",
      "execution_count": null,
      "metadata": {
        "id": "uTDdfA8GPof3"
      },
      "outputs": [],
      "source": [
        "# global parametres\n",
        "no_of_inputs=2048"
      ]
    },
    {
      "cell_type": "markdown",
      "metadata": {
        "id": "kURAUkbFP1Sw"
      },
      "source": [
        "# Functions used to break the cipher"
      ]
    },
    {
      "cell_type": "code",
      "execution_count": null,
      "metadata": {
        "colab": {
          "base_uri": "https://localhost:8080/"
        },
        "id": "57vjN04HPof5",
        "outputId": "37704059-6b65-4dae-bff6-bc898640dfc3"
      },
      "outputs": [],
      "source": [
        "# Given a S-Box this function returns corresponding Linear approximation table\n",
        "def linear_approx_table(sbox):\n",
        "    l = []\n",
        "    for i in range(16):\n",
        "        l1 = []\n",
        "        for j in range(16):\n",
        "            count=-8\n",
        "            for x in range(16):\n",
        "                t = (x & i )^(j & sbox[x])\n",
        "                count += (1 - no_of_ones(t))\n",
        "            l1.append(count)\n",
        "        l.append(l1)\n",
        "    return l\n",
        "\n",
        "# Given an input,linear_table this function returns the input to the next round\n",
        "# that we will use to get the linear equation\n",
        "\n",
        "def f(input,linear_table):\n",
        "    y = demux(input)\n",
        "    l = []\n",
        "    p = 1\n",
        "    for i in y:\n",
        "        if i == 0:\n",
        "            l.append(0)\n",
        "        else:\n",
        "            max_val=0\n",
        "            max_ele=0\n",
        "            for j in range(16):\n",
        "                if abs(linear_table[i][j])> abs(max_val):\n",
        "                    max_val=linear_table[i][j]\n",
        "                    max_ele=j\n",
        "            l.append(max_ele)\n",
        "            p*=(max_val/8)\n",
        "    output = pbox(mux(l))\n",
        "    return output,p/2\n",
        "\n",
        "# Given inputs,cipher texts this function returns it best guess for Key\n",
        "def get_k(last_before_output,inputs,cipher_texts,initial_input,bias):\n",
        "    y = demux(last_before_output)\n",
        "    count_zeros = no_of_zeros(y)\n",
        "    if(count_zeros<1):\n",
        "        return -1,-1,-1,-1,-1\n",
        "    all_k=[]\n",
        "    # assume pos_of_k be pos1 and pos2 as in 0 1 2 3 order\n",
        "    pos1 = -1\n",
        "    pos2 = -1\n",
        "    pos3 = -1\n",
        "\n",
        "    for i_ in range(4):\n",
        "        if y[i_] != 0 and pos1 == -1:\n",
        "            pos1 = i_\n",
        "        elif y[i_] != 0 and pos2 == -1:\n",
        "            pos2 = i_\n",
        "        elif y[i_] != 0 and pos3 == -1:\n",
        "            pos3=i_\n",
        "\n",
        "    if(pos2 == -1):\n",
        "        for i_ in range(16):\n",
        "            all_k.append((i_<<(4*(3-pos1))))\n",
        "    elif (pos3 == -1):\n",
        "        for i_ in range(16):\n",
        "            for j_ in range(16):\n",
        "                all_k.append((i_<<(4*(3-pos1))) + (j_<<(4*(3-pos2))))\n",
        "    else:\n",
        "        for i_ in range(16):\n",
        "            for j_ in range(16):\n",
        "                for k_ in range(16):\n",
        "                    all_k.append((i_<<(4*(3-pos1))) + (j_<<(4*(3-pos2))) + (k_ << (4*(3-pos3))))\n",
        "\n",
        "    # p contains biases of equations with all possible values of Keys\n",
        "    p=[0]*len(all_k)\n",
        "    for i in range(len(inputs)):\n",
        "        probe=demux((initial_input & inputs[i]))\n",
        "        a=0\n",
        "        for _ in probe:\n",
        "            a+=(no_of_ones(_))\n",
        "        a=a%2\n",
        "\n",
        "        output_ciphers=demux(cipher_texts[i])\n",
        "        for k in range(len(all_k)):\n",
        "            b=0\n",
        "            split_k=demux(all_k[k])\n",
        "            for e in range(4):\n",
        "                # Computing inverse of Key XOR ciphertext (to be placed in the computed )\n",
        "                inv=s_inv[no_of_rounds-1][split_k[e]^output_ciphers[e]] & y[e]\n",
        "                b+=no_of_ones(inv)\n",
        "            if (a+b)%2==0:\n",
        "                p[k]+=1\n",
        "            else:\n",
        "                p[k]-=1\n",
        "    # Taking value of Key which has bias with plaintext,ciphertext pairs almost same as computed bias from linear equations\n",
        "    probs = [abs(abs(x / (2*len(inputs)))- bias) for x in p]\n",
        "    min_val=min(probs)\n",
        "    return all_k[probs.index(min_val)],pos1,pos2,pos3,min_val\n",
        "\n"
      ]
    },
    {
      "cell_type": "code",
      "execution_count": null,
      "metadata": {},
      "outputs": [],
      "source": [
        "# generating inputs and their cipher texts\n",
        "inputs=[]\n",
        "cipher_texts=[]\n",
        "key=[]\n",
        "for i in range(no_of_rounds):\n",
        "    key.append(random.randint(0, 2**16 - 1))\n",
        "for i in range(no_of_inputs):\n",
        "    m=random.randint(0, 2**16 - 1)\n",
        "    c=encrypt(key,m,no_of_rounds)\n",
        "    inputs.append(m)\n",
        "    cipher_texts.append(c)"
      ]
    },
    {
      "cell_type": "code",
      "execution_count": null,
      "metadata": {},
      "outputs": [],
      "source": [
        "linear_tables=[]\n",
        "for i in range(no_of_rounds):\n",
        "    linear_tables.append(linear_approx_table(s[i]))"
      ]
    },
    {
      "cell_type": "code",
      "execution_count": null,
      "metadata": {},
      "outputs": [],
      "source": [
        "all_x=[]\n",
        "ans=[]\n",
        "ans_probs=[]\n",
        "ans_pos=[]\n",
        "for i in range(1,16):\n",
        "    all_x.extend([i,16*i,256*i,4096*i])\n",
        "linear_probs=[]\n",
        "linear_last_outputs=[]\n",
        "\n",
        "for x in all_x:\n",
        "    p=0.5\n",
        "    output=x\n",
        "    i=0\n",
        "    while(i<no_of_rounds-1):\n",
        "        output,probs=f(output,linear_tables[i])\n",
        "        p*=(2*probs)\n",
        "        i+=1\n",
        "    last_before_output=output\n",
        "    linear_probs.append(abs(p))\n",
        "    linear_last_outputs.append(last_before_output)\n",
        "\n",
        "linear_prob=np.array(linear_probs)\n",
        "indices=np.argsort(-linear_prob)\n",
        "\n",
        "new_x=np.array(all_x)\n",
        "new_x=new_x[indices]\n",
        "\n",
        "linear_last_output=np.array(linear_last_outputs)\n",
        "linear_last_output=linear_last_output[indices]\n",
        "linear_prob=linear_prob[indices]\n",
        "key_val=[-1,-1,-1,-1]\n",
        "for i in range(len(linear_prob)):\n",
        "    count=0\n",
        "    l=demux(linear_last_output[i])\n",
        "    # print(l)\n",
        "    for j in range(4):\n",
        "        if key_val[j]==-1 and l[j]!=0:\n",
        "            count+=1\n",
        "    if(count==0):\n",
        "        continue\n",
        "    k,pos1,pos2,pos3,min_val=get_k(linear_last_output[i],inputs,cipher_texts,new_x[i],linear_prob[i])\n",
        "    if(k!=-1):\n",
        "        # print(pos1,pos2,pos3)\n",
        "        ans_probs.append(min_val)\n",
        "        ans.append(demux(k))\n",
        "        ans_pos.append([pos1,pos2,pos3])\n",
        "    k_=demux(k)\n",
        "    for j in [pos1,pos2,pos3]:\n",
        "        if j!=-1 and key_val[j]==-1:\n",
        "            key_val[j]=k_[j]\n",
        "            print(\"found a value\")\n",
        "    # print(i,\":\",key_val)\n",
        "    if (min(key_val)>-1):\n",
        "        break"
      ]
    },
    {
      "cell_type": "code",
      "execution_count": null,
      "metadata": {
        "colab": {
          "base_uri": "https://localhost:8080/"
        },
        "id": "RMNDhLbUsgd2",
        "outputId": "d3a45b76-86a2-4221-df35-cd242c37a9ea"
      },
      "outputs": [],
      "source": [
        "print(\"Actual Key taken in last round \",demux(key[no_of_rounds-1]))\n",
        "print(\"Obtained Key by Cryptanalysis \",key_val)\n",
        "\n",
        "key_taken = key[no_of_rounds-1]\n",
        "key_obtained = mux(key_val)\n",
        "xor_of_both = key_taken ^ key_obtained\n",
        "bits_matched = 0\n",
        "for i_ in range(16):\n",
        "    bits_matched += (1-(xor_of_both & 1))\n",
        "    xor_of_both >>= 1\n",
        "print(f\"Number of bits matched : {bits_matched}/16\",)"
      ]
    }
  ],
  "metadata": {
    "colab": {
      "provenance": []
    },
    "kernelspec": {
      "display_name": "Python 3",
      "language": "python",
      "name": "python3"
    },
    "language_info": {
      "codemirror_mode": {
        "name": "ipython",
        "version": 3
      },
      "file_extension": ".py",
      "mimetype": "text/x-python",
      "name": "python",
      "nbconvert_exporter": "python",
      "pygments_lexer": "ipython3",
      "version": "3.9.6"
    }
  },
  "nbformat": 4,
  "nbformat_minor": 0
}
